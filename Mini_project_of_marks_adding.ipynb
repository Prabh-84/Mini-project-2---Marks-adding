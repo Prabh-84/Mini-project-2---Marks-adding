{
  "nbformat": 4,
  "nbformat_minor": 0,
  "metadata": {
    "colab": {
      "provenance": [],
      "authorship_tag": "ABX9TyNYfIX9LluLArzxRhv6F7R6",
      "include_colab_link": true
    },
    "kernelspec": {
      "name": "python3",
      "display_name": "Python 3"
    },
    "language_info": {
      "name": "python"
    }
  },
  "cells": [
    {
      "cell_type": "markdown",
      "metadata": {
        "id": "view-in-github",
        "colab_type": "text"
      },
      "source": [
        "<a href=\"https://colab.research.google.com/github/Prabh-84/Mini-project-2---Marks-adding/blob/main/Mini_project_of_marks_adding.ipynb\" target=\"_parent\"><img src=\"https://colab.research.google.com/assets/colab-badge.svg\" alt=\"Open In Colab\"/></a>"
      ]
    },
    {
      "cell_type": "markdown",
      "source": [
        "Step 0 - upload the csv file in files section"
      ],
      "metadata": {
        "id": "1bCa2UxOIEuS"
      }
    },
    {
      "cell_type": "markdown",
      "source": [
        "Step 1 - Extract a CSV file into a Pandas Dataframe"
      ],
      "metadata": {
        "id": "i3mnmQM8fnrR"
      }
    },
    {
      "cell_type": "code",
      "execution_count": null,
      "metadata": {
        "colab": {
          "base_uri": "https://localhost:8080/"
        },
        "id": "29Mpd_m4zR-S",
        "outputId": "7cb97284-e7c9-4ad6-8311-ca852ca1635e"
      },
      "outputs": [
        {
          "output_type": "stream",
          "name": "stdout",
          "text": [
            "       Roll Num  Marks\n",
            "0     102003542      1\n",
            "1     102003640      1\n",
            "2     102003725      1\n",
            "3     102003307      1\n",
            "4     102003458      1\n",
            "...         ...    ...\n",
            "1831  102003755      1\n",
            "1832  102017147      1\n",
            "1833  102017152      1\n",
            "1834  102003451      1\n",
            "1835  102003549      1\n",
            "\n",
            "[1836 rows x 2 columns]\n"
          ]
        }
      ],
      "source": [
        "import pandas as pd\n",
        "\n",
        "\n",
        "# Read the csv file\n",
        "df = pd.read_csv('/content/Mini Project - Marks Adding.csv')\n",
        "\n",
        "# Print the DataFrame\n",
        "print(df)"
      ]
    },
    {
      "cell_type": "markdown",
      "source": [
        "Step 2 - Group the Data frame by the Roll Num column by  use of groupby() and using sum() to add same key values"
      ],
      "metadata": {
        "id": "CphpMVUOgufB"
      }
    },
    {
      "cell_type": "code",
      "source": [
        "# Group the DataFrame by the 'Roll Num' column and sum the 'Marks' column\n",
        "df_sum= df.groupby('Roll Num')['Marks'].sum()\n",
        "\n",
        "# Print the summed DataFrame\n",
        "print(df_sum)\n"
      ],
      "metadata": {
        "colab": {
          "base_uri": "https://localhost:8080/"
        },
        "id": "Axhzuyx81KF7",
        "outputId": "891f92f0-a8e5-4f2c-c5e5-3566998ef648"
      },
      "execution_count": null,
      "outputs": [
        {
          "output_type": "stream",
          "name": "stdout",
          "text": [
            "Roll Num\n",
            "102003001    3\n",
            "102003002    5\n",
            "102003017    5\n",
            "102003018    5\n",
            "102003029    5\n",
            "            ..\n",
            "102196010    4\n",
            "102197016    5\n",
            "102197018    4\n",
            "102197019    5\n",
            "102197021    5\n",
            "Name: Marks, Length: 400, dtype: int64\n"
          ]
        }
      ]
    },
    {
      "cell_type": "markdown",
      "source": [
        "Step 3 - Export the Dataframe into CSV file"
      ],
      "metadata": {
        "id": "i_O7T17sqBUj"
      }
    },
    {
      "cell_type": "code",
      "source": [
        "# export the dataframe to a CSV file\n",
        "df_sum.to_csv('Total marks after adding.csv')"
      ],
      "metadata": {
        "id": "0kYtjAVyoSI7"
      },
      "execution_count": null,
      "outputs": []
    },
    {
      "cell_type": "markdown",
      "source": [
        "Complete code"
      ],
      "metadata": {
        "id": "Vy0HBbG7nwde"
      }
    },
    {
      "cell_type": "code",
      "source": [
        "import pandas as pd\n",
        "\n",
        "\n",
        "# Read the Excel file\n",
        "df = pd.read_csv('/content/Mini Project - Marks Adding.csv')\n",
        "\n",
        "# Print the DataFrame\n",
        "print(df)\n",
        "\n",
        "# Group the DataFrame by the 'Roll Num' column and sum the 'Marks' column\n",
        "df_sum= df.groupby('Roll Num')['Marks'].sum()\n",
        "\n",
        "# Print the summed DataFrame\n",
        "print(df_sum)\n",
        "\n",
        "# export the dataframe to a CSV file\n",
        "df_sum.to_csv('Total marks after adding.csv')\n"
      ],
      "metadata": {
        "colab": {
          "base_uri": "https://localhost:8080/"
        },
        "id": "SZqDftydpkd4",
        "outputId": "e85b05ed-594d-4734-94ad-959acae95e87"
      },
      "execution_count": null,
      "outputs": [
        {
          "output_type": "stream",
          "name": "stdout",
          "text": [
            "       Roll Num  Marks\n",
            "0     102003542      1\n",
            "1     102003640      1\n",
            "2     102003725      1\n",
            "3     102003307      1\n",
            "4     102003458      1\n",
            "...         ...    ...\n",
            "1831  102003755      1\n",
            "1832  102017147      1\n",
            "1833  102017152      1\n",
            "1834  102003451      1\n",
            "1835  102003549      1\n",
            "\n",
            "[1836 rows x 2 columns]\n",
            "Roll Num\n",
            "102003001    3\n",
            "102003002    5\n",
            "102003017    5\n",
            "102003018    5\n",
            "102003029    5\n",
            "            ..\n",
            "102196010    4\n",
            "102197016    5\n",
            "102197018    4\n",
            "102197019    5\n",
            "102197021    5\n",
            "Name: Marks, Length: 400, dtype: int64\n"
          ]
        }
      ]
    },
    {
      "cell_type": "markdown",
      "source": [],
      "metadata": {
        "id": "Bb0NegQIhh3k"
      }
    }
  ]
}